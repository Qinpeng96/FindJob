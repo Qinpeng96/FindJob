{
 "cells": [
  {
   "cell_type": "markdown",
   "metadata": {},
   "source": [
    "#### PSO(粒子群优化算法)\n",
    "- [参考链接](https://blog.csdn.net/daaikuaichuan/article/details/81382794)"
   ]
  },
  {
   "cell_type": "code",
   "execution_count": 28,
   "metadata": {},
   "outputs": [
    {
     "name": "stdout",
     "output_type": "stream",
     "text": [
      "g_max_best:-0.188799-value:3.192643,g_min_best:3.522568-value:-22.377829\n"
     ]
    }
   ],
   "source": [
    "import copy\n",
    "import random\n",
    "\n",
    "#caculateFitness\n",
    "def caculateFitness(x,coefficient)->float:\n",
    "    if coefficient == None:\n",
    "        return ValueError('coefficient error!')\n",
    "    sum = 0.0\n",
    "    for i in range(len(coefficient)):\n",
    "        sum += pow(x,len(coefficient)-1-i)*coefficient[i]\n",
    "    return sum\n",
    "\n",
    "#pos init\n",
    "x_max = []\n",
    "x_min = []\n",
    "v_max = []\n",
    "v_min = []\n",
    "i = -2.0\n",
    "while i <= 5.0:\n",
    "    x_max.append(i)\n",
    "    x_min.append(i) \n",
    "    v_max.append(random.uniform(-10.0,10.0))\n",
    "    v_min.append(random.uniform(-10.0,10.0))\n",
    "    i += 0.1\n",
    "group_size = len(x_max)\n",
    "p_min_best = copy.deepcopy(x_max)\n",
    "p_max_best = copy.deepcopy(x_min)\n",
    "g_max_best = x_max[0]\n",
    "g_min_best = x_min[0]\n",
    "cofficient = [1,-5,-2,3]\n",
    "w = 0.5\n",
    "c1 = c2 = 2.0\n",
    "\n",
    "#loop 0-100\n",
    "for i in range(0,20):\n",
    "    for j in range(group_size):\n",
    "        #caculate fitness\n",
    "        fitness1 = caculateFitness(x_min[j],cofficient)\n",
    "        fitness2 = caculateFitness(x_max[j],cofficient)\n",
    "\n",
    "        #get p_best and g_best\n",
    "        if fitness1 < caculateFitness(p_min_best[j],cofficient):\n",
    "            p_min_best[j] = x_min[j]\n",
    "        if fitness2 > caculateFitness(p_max_best[j],cofficient):\n",
    "            p_max_best[j] = x_max[j]\n",
    "        if caculateFitness(p_min_best[j],cofficient) < caculateFitness(g_min_best,cofficient):\n",
    "            g_min_best = p_min_best[j]\n",
    "        if caculateFitness(p_max_best[j],cofficient) > caculateFitness(g_max_best,cofficient):\n",
    "            g_max_best = p_max_best[j]\n",
    "\n",
    "    #update x v\n",
    "    for j in range(group_size):\n",
    "        v_max[j] = w*v_max[j] + c1*random.random()*(p_max_best[j]-x_max[j]) + c2*random.random()*(g_max_best-x_max[j])\n",
    "        x_max[j] += v_max[j]\n",
    "        v_min[j] = w*v_min[j] + c1*random.random()*(p_min_best[j]-x_min[j]) + c2*random.random()*(g_min_best-x_min[j])\n",
    "        x_min[j] += v_min[j]\n",
    "        #value assert\n",
    "        if x_min[j] <= -2.0:\n",
    "            x_min[j] = -2.0\n",
    "        if x_max[j] >= 5.0:\n",
    "            x_max[j] = 5.0\n",
    "        if x_max[j] <= -2.0:\n",
    "            x_max[j] = -2.0\n",
    "        if x_min[j] >= 5.0:\n",
    "            x_min[j] = 5.0\n",
    "            \n",
    "print(\"g_max_best:%f-value:%f,g_min_best:%f-value:%f\"%(g_max_best,caculateFitness(g_max_best,cofficient),\n",
    "                                                       g_min_best,caculateFitness(g_min_best,cofficient)))"
   ]
  },
  {
   "cell_type": "code",
   "execution_count": null,
   "metadata": {},
   "outputs": [],
   "source": []
  }
 ],
 "metadata": {
  "kernelspec": {
   "display_name": "Python 3",
   "language": "python",
   "name": "python3"
  },
  "language_info": {
   "codemirror_mode": {
    "name": "ipython",
    "version": 3
   },
   "file_extension": ".py",
   "mimetype": "text/x-python",
   "name": "python",
   "nbconvert_exporter": "python",
   "pygments_lexer": "ipython3",
   "version": "3.7.5"
  }
 },
 "nbformat": 4,
 "nbformat_minor": 2
}
