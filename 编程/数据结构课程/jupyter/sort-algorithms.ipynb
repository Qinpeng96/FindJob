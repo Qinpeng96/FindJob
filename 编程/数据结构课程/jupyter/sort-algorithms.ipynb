{
 "cells": [
  {
   "cell_type": "markdown",
   "metadata": {},
   "source": [
    "### 前言 关于时间复杂度\n",
    "- 忽略常数项 \n",
    "- 忽略低阶项\n",
    "- 忽略高阶项系数\n",
    "- O(1)<Olog(n)< O(n) > O(nlog(n))< O(n^2)< O(n^3) < O(2^n) < O(n!) < O(n^n)\n",
    "- [本文参考链接](https://mp.weixin.qq.com/s/IAZnN00i65Ad3BicZy5kzQ)"
   ]
  },
  {
   "cell_type": "markdown",
   "metadata": {},
   "source": [
    "###  十大排序算法\n",
    "- 简单排序：插入排序、选择排序、冒泡排序（必学）\n",
    "- 分治排序：快速排序、归并排序（必学，快速排序还要关注中轴的选取方式）\n",
    "- 分配排序：桶排序、基数排序\n",
    "- 树状排序：堆排序（必学）\n",
    "- 其他：计数排序（必学）、希尔排序"
   ]
  },
  {
   "cell_type": "markdown",
   "metadata": {},
   "source": [
    "####  1)冒泡排序\n",
    "1. 时间复杂度O(n^2)  空间复杂度O(1)  稳定排序  原地排序\n",
    "2. 比较相邻的元素。如果第一个比第二个大，就交换他们两个。\n",
    "3. 对每一对相邻元素做同样的工作，从开始第一对到结尾的最后一对。在这一点，最后的元素应该会是最大的数。\n",
    "4. 针对所有的元素重复以上的步骤，除了最后一个。\n",
    "5.持续每次对越来越少的元素重复上面的步骤，直到没有任何一对数字需要比较。"
   ]
  },
  {
   "cell_type": "code",
   "execution_count": 1,
   "metadata": {},
   "outputs": [
    {
     "name": "stdout",
     "output_type": "stream",
     "text": [
      "[1, 2, 5, 5, 9, 10, 12]\n"
     ]
    }
   ],
   "source": [
    "import numpy as np\n",
    "from typing import List\n",
    "\n",
    "def bubbleSort(arr:List[int])->List[int]:\n",
    "    for i in range(len(arr)):\n",
    "        for j in range(len(arr)-1-i):\n",
    "            if arr[j] > arr[j+1]:\n",
    "                temp = arr[j]\n",
    "                arr[j] = arr[j+1]\n",
    "                arr[j+1] = temp\n",
    "    return arr\n",
    "\n",
    "print(bubbleSort([2,5,1,9,5,10,12]))"
   ]
  },
  {
   "cell_type": "markdown",
   "metadata": {},
   "source": [
    "#### 2)选择排序\n",
    "1. 时间复杂度O(n^2)  空间复杂度O(1)  非稳定排序  原地排序\n",
    "2. 第一次从待排序的数据元素中选出最小（或最大）的一个元素，存放在序列的起始位置，\n",
    "3. 然后再从剩余的未排序元素中寻找到最小（大）元素，然后放到已排序的序列的末尾。\n",
    "4. 以此类推，直到全部待排序的数据元素的个数为零。选择排序是不稳定的排序方法。"
   ]
  },
  {
   "cell_type": "code",
   "execution_count": 2,
   "metadata": {},
   "outputs": [
    {
     "name": "stdout",
     "output_type": "stream",
     "text": [
      "[1, 2, 5, 5, 6, 9, 10, 12, 18]\n"
     ]
    }
   ],
   "source": [
    "import numpy as np\n",
    "from typing import List\n",
    "\n",
    "def selectSort(arr:List[int])->List[int]:\n",
    "    for i in range(len(arr)):\n",
    "        for j in range(i+1,len(arr)):\n",
    "            if arr[i] > arr[j]:\n",
    "                temp = arr[i]\n",
    "                arr[i] = arr[j]\n",
    "                arr[j] = temp\n",
    "    return arr\n",
    "\n",
    "print(selectSort([2,5,1,9,5,6,18,10,12]))"
   ]
  },
  {
   "cell_type": "markdown",
   "metadata": {},
   "source": [
    "#### 3)插入排序\n",
    "1. 时间复杂度：O(n2)  空间复杂度：O(1)  稳定排序  原地排序\n",
    "2. 从数组第2个元素开始抽取元素。\n",
    "3. 把它与左边第一个元素比较，如果左边第一个元素比它大，则继续与左边第二个元素比较下去，直到遇到不比它大的元素，然后插到这个元素的右边。\n",
    "4. 继续选取第3，4，….n个元素,重复步骤 2 ，选择适当的位置插入。"
   ]
  },
  {
   "cell_type": "code",
   "execution_count": 4,
   "metadata": {},
   "outputs": [
    {
     "name": "stdout",
     "output_type": "stream",
     "text": [
      "[1, 2, 5, 5, 6, 9, 10, 12, 18]\n"
     ]
    }
   ],
   "source": [
    "import numpy as np\n",
    "from typing import List\n",
    "\n",
    "def insertSort(arr:List[int])->List[int]:\n",
    "    for i in range(1,len(arr)):\n",
    "        j = i-1\n",
    "        while (j >= 0) and (arr[j] > arr[i]):\n",
    "            j -= 1\n",
    "        temp = arr[i]\n",
    "        k = i\n",
    "        while k > j+1:\n",
    "            arr[k] = arr[k-1]\n",
    "            k -= 1\n",
    "        arr[j+1] = temp\n",
    "    return arr\n",
    "\n",
    "print(insertSort([2,5,1,9,5,6,18,10,12]))"
   ]
  },
  {
   "cell_type": "markdown",
   "metadata": {},
   "source": [
    "#### 4)希尔排序\n",
    "1. 时间复杂度：O(nlogn)  空间复杂度：O(1)  非稳定排序  原地排序\n",
    "2. 算法原理\n",
    "![希尔排序算法图解](./shellsort.png \"希尔排序算法图解\")"
   ]
  },
  {
   "cell_type": "code",
   "execution_count": 9,
   "metadata": {},
   "outputs": [
    {
     "name": "stdout",
     "output_type": "stream",
     "text": [
      "[1, 2, 5, 5, 6, 9, 10, 12, 18]\n"
     ]
    }
   ],
   "source": [
    "import numpy as np\n",
    "from typing import List\n",
    "\n",
    "def _insertSort(arr:List[int],h:int,i:int):\n",
    "#第i个分组的元素在arr数组当中的绝对位置为 arr[k] for ( k = i k< arr_len,k+=h ) arr[i] arr[i+h] arr[...]\n",
    "    inserted = arr[i]\n",
    "    k = i - h;\n",
    "    while ( k >= 0) and (inserted < arr[k]):\n",
    "        arr[k+h] = arr[k]\n",
    "        k -= h\n",
    "    arr[k+h] = inserted\n",
    "    \n",
    "def shellSort(arr:List[int])->List[int]:\n",
    "    arr_len = len(arr)\n",
    "    h = arr_len//2  \n",
    "    while h > 0:\n",
    "        #若h为偶数 没有问题 若n为奇数 第一个分组则多出一个元素 对后续排序没有问题\n",
    "        #分成h组 每组arr_len/h个\n",
    "        for i in range(h,arr_len): #i代表第i个分组 一共有h个分组\n",
    "            _insertSort(arr,h,i) #对第i个分组进行插入排序\n",
    "        h = h//2\n",
    "        \n",
    "    return arr\n",
    "print(shellSort([2,5,1,9,5,6,18,10,12]))"
   ]
  },
  {
   "cell_type": "markdown",
   "metadata": {},
   "source": [
    "####  5)归并排序\n",
    "1. 时间复杂度：O(nlogn)  空间复杂度：O(n)  稳定排序  非原地排序\n",
    "2. 将一个大的无序数组有序，我们可以把大的数组分成两个，然后对这两个数组分别进行排序，之后在把这两个数组合并成一个有序的数组。由于两个小的数组都是有序的，所以在合并的时候是很快的。\n",
    "3. 通过递归的方式将大的数组一直分割，直到数组的大小为 1，此时只有一个元素，那么该数组就是有序的了，之后再把两个数组大小为1的合并成一个大小为2的，再把两个大小为2的合并成4的 ….. 直到全部小的数组合并起来。"
   ]
  },
  {
   "cell_type": "code",
   "execution_count": 34,
   "metadata": {},
   "outputs": [
    {
     "name": "stdout",
     "output_type": "stream",
     "text": [
      "[1, 2, 5, 5, 6, 9, 10, 12, 18]\n",
      "[1, 1, 3, 5, 4, 4, 9, 5, 23, 88]\n"
     ]
    }
   ],
   "source": [
    "import numpy as np\n",
    "import copy\n",
    "from typing import List\n",
    "\n",
    "def _mergeSort(arr:List[int],left:int,mid:int,right:int):\n",
    "    arr_copy = copy.deepcopy(arr)  \n",
    "    #对两个子数组进行排序归并成大数组\n",
    "    i = left\n",
    "    j = mid + 1\n",
    "    k = left\n",
    "    while ( i<= mid ) and ( j <= right ):\n",
    "        if arr_copy[i] < arr_copy[j]:\n",
    "            arr[k] = arr_copy[i]\n",
    "            i += 1\n",
    "        else :\n",
    "            arr[k] = arr_copy[j]\n",
    "            j += 1\n",
    "        k += 1\n",
    "    while i <= mid :\n",
    "        arr[k] = arr_copy[i]\n",
    "        k += 1\n",
    "        i += 1\n",
    "    while j <= right:\n",
    "        arr[k] = arr_copy[j]\n",
    "        k += 1\n",
    "        j += 1  \n",
    "        \n",
    "#递归式归并排序    \n",
    "def mergeSortRecursive(arr:List[int],left:int,right:int):\n",
    "    if left < right :\n",
    "        mid = (left+right)//2\n",
    "        mergeSortRecursive(arr,left,mid)\n",
    "        mergeSortRecursive(arr,mid+1,right)\n",
    "        _mergeSort(arr,left,mid,right)\n",
    "        \n",
    "    return arr\n",
    "#非递归式归并排序\n",
    "def mergeSortUnRecursive(arr:List[int]):\n",
    "    arr_len = len(arr)\n",
    "    i = 1\n",
    "    while i < arr_len :\n",
    "        left = 0\n",
    "        mid = left + i -1\n",
    "        right = mid + 1\n",
    "        \n",
    "        while right < arr_len:\n",
    "            _mergeSort(arr,left,mid,right)\n",
    "            left = right + 1\n",
    "            mid = left + i -1\n",
    "            right = mid + i\n",
    "        if left < arr_len and mid < arr_len:\n",
    "            _mergeSort(arr,left,mid,arr_len-1)\n",
    "        i += i\n",
    "    return arr\n",
    "    \n",
    "arr1 =[2,5,1,9,5,6,18,10,12]\n",
    "arr2 = [1,5,4,3,9,1,88,5,4,23]\n",
    "print(mergeSortRecursive(arr1,0,len(arr1)-1))\n",
    "print(mergeSortUnRecursive(arr2))"
   ]
  },
  {
   "cell_type": "markdown",
   "metadata": {},
   "source": [
    "#### 6)快速排序\n",
    "1. 平均时间复杂度：O(nlogn) 空间复杂度：O(1) 稳定排序 原地排序\n",
    "2. 算法原理\n",
    "![快速排序图解](./quicksort_1.png)\n",
    "![快速排序图解](./quicksort_2.png)\n",
    "![快速排序图解](./quicksort_3.png)"
   ]
  },
  {
   "cell_type": "code",
   "execution_count": 52,
   "metadata": {},
   "outputs": [
    {
     "name": "stdout",
     "output_type": "stream",
     "text": [
      "[1, 1, 3, 4, 4, 5, 5, 9, 23, 88]\n"
     ]
    }
   ],
   "source": [
    "import numpy as np\n",
    "import copy\n",
    "from typing import List\n",
    "\n",
    "#单向扫描\n",
    "def partion_one(arr:List[int],left:int,right:int):\n",
    "    major = arr[right]\n",
    "    i = left\n",
    "    for j in range(i,right):\n",
    "        if arr[j] < major:\n",
    "            temp = arr[i]\n",
    "            arr[i] = arr[j]\n",
    "            arr[j] = temp\n",
    "            i = i+1 \n",
    "    arr[right] = arr[i]\n",
    "    arr[i] = major\n",
    "    return i\n",
    "\n",
    "#双向扫描\n",
    "def partion_two(arr:List[int],left:int,right:int):\n",
    "    \n",
    "    major = arr[left]\n",
    "    i = left+1\n",
    "    j = right\n",
    "    \n",
    "    while i < j :\n",
    "        while arr[i] < major and i < j:\n",
    "            i += 1\n",
    "        while arr[j] > major and i < j:\n",
    "            j -= 1\n",
    "            \n",
    "        temp = arr[i]\n",
    "        arr[i] = arr[j]\n",
    "        arr[j] = temp\n",
    "        \n",
    "    arr[left] = arr[j]\n",
    "    arr[j] = major\n",
    "\n",
    "    return j\n",
    "        \n",
    "def quickSort(arr:List[int],left:int,right:int):\n",
    "    if left < right:\n",
    "        center = partion_two(arr,left,right)\n",
    "        quickSort(arr,left,center-1)\n",
    "        quickSort(arr,center+1,right)\n",
    "    return arr\n",
    "arr2 = [1,5,4,3,9,1,88,5,4,23]\n",
    "\n",
    "print(quickSort(arr2,0,len(arr2)-1))"
   ]
  },
  {
   "cell_type": "markdown",
   "metadata": {},
   "source": [
    "#### 7)堆排序\n",
    "1. 时间复杂度：O(nlogn)  空间复杂度：O(1)  非稳定排序  原地排序\n",
    "2. 先讲讲二叉堆\n",
    "[二叉堆的定义和特性](https://mp.weixin.qq.com/s?__biz=Mzg2NzA4MTkxNQ==&mid=2247485231&amp;idx=1&amp;sn=8dfdc04bd209fba3077269faabe7c36f&source=41#wechat_redirect)\n",
    "3. 堆排序就是把堆顶的元素与最后一个元素交换，交换之后破坏了堆的特性，我们再把堆中剩余的元素再次构成一个大顶堆，然后再把堆顶元素与最后第二个元素交换….如此往复下去，等到剩余的元素只有一个的时候，此时的数组就是有序的了。"
   ]
  },
  {
   "cell_type": "code",
   "execution_count": 57,
   "metadata": {},
   "outputs": [
    {
     "name": "stdout",
     "output_type": "stream",
     "text": [
      "[88, 23, 9, 5, 5, 4, 4, 3, 1, 1]\n"
     ]
    }
   ],
   "source": [
    "import numpy as np\n",
    "from typing import List\n",
    "\n",
    "def downAdjust(arr:List[int],parent:int,arr_len:int):\n",
    "    temp = arr[parent]\n",
    "    child = 2*parent + 1\n",
    "    \n",
    "    while child < arr_len:\n",
    "        if (child+1)<arr_len and arr[child] > arr[child+1]:\n",
    "            child += 1\n",
    "        if temp <= arr[child]:\n",
    "            break\n",
    "        arr[parent] = arr[child]\n",
    "        parent = child\n",
    "        child = 2*parent + 1\n",
    "    arr[parent] = temp\n",
    "    return arr      \n",
    "    \n",
    "def upAdjust(arr:List[int],arr_len:int):\n",
    "    child = arr_len - 1\n",
    "    parent = (child-1)//2\n",
    "    temp = arr[child]\n",
    "    \n",
    "    while child > 0 and temp < arr[parent]:\n",
    "        arr[child] = arr[parent]\n",
    "        arr[parent] = temp\n",
    "        child = parent\n",
    "        parent = (child-1)//2\n",
    "    arr[child] = temp\n",
    "    return arr\n",
    "    \n",
    "def buildMinBinaryHeap(arr:List[int]):\n",
    "    arr_len  = len(arr)\n",
    "    i = ( arr_len - 2 )//2\n",
    "    while i >= 0:\n",
    "        arr = downAdjust(arr,i,arr_len)\n",
    "        i -= 1\n",
    "    return arr\n",
    "\n",
    "def heapSort(arr:List[int]):\n",
    "    arr_len = len(arr)\n",
    "    buildMinBinaryHeap(arr) #构建二叉堆\n",
    "    i = len(arr)-1\n",
    "    while i >= 1:\n",
    "        temp = arr[i]\n",
    "        arr[i] = arr[0]\n",
    "        arr[0] = temp\n",
    "        arr = downAdjust(arr,0,i)\n",
    "        i -= 1\n",
    "    return arr\n",
    "print(heapSort([1,5,4,3,9,1,88,5,4,23]))\n",
    "    \n",
    "    \n",
    "    "
   ]
  },
  {
   "cell_type": "markdown",
   "metadata": {},
   "source": [
    "#### 8)桶排序"
   ]
  },
  {
   "cell_type": "markdown",
   "metadata": {},
   "source": [
    "#### 9)计数排序\n",
    "1. 时间复杂度：O(n+k)  空间复杂度：O(k)  稳定排序  非原地排序 k为辅助数组的大小\n",
    "2. 计数排序是一种适合于最大值和最小值的差值不是不是很大的排序。\n",
    "3. 基本思想：就是把数组元素作为数组的下标，然后用一个临时数组统计该元素出现的次数，例如 temp[i] = m, 表示元素 i 一共出现了 m 次。最后再把临时数组统计的数据从小到大汇总起来，此时汇总起来是数据是有序的。"
   ]
  },
  {
   "cell_type": "code",
   "execution_count": 21,
   "metadata": {},
   "outputs": [
    {
     "name": "stdout",
     "output_type": "stream",
     "text": [
      "[0, 0, 1, 1, 2, 2, 3, 3, 4, 4, 4, 5, 5, 5, 6, 6, 7, 7, 8, 8, 8, 8, 9, 9, 9, 15, 16, 18, 19, 25, 44, 65]\n"
     ]
    }
   ],
   "source": [
    "import numpy as np\n",
    "from typing import List\n",
    "\n",
    "def countSort(arr:List[int]):\n",
    "    if len(arr) <= 0:\n",
    "        return None\n",
    "    min_value  = max_value = arr[0]\n",
    "    for i in arr:\n",
    "        if i < min_value:\n",
    "            min_value = i\n",
    "        if i > max_value:\n",
    "            max_value = i\n",
    "            \n",
    "    arr2 = []   \n",
    "    for i in range(0,max_value-min_value+1):\n",
    "        arr2.append(0)\n",
    "\n",
    "    for i in arr:\n",
    "        arr2[i-min_value]+=1\n",
    "        \n",
    "    num = 0\n",
    "    for i in  range(len(arr2)):\n",
    "        k = arr2[i]\n",
    "        while k >= 1:\n",
    "            arr[num] = min_value + i\n",
    "            num += 1\n",
    "            k -= 1\n",
    "    return arr\n",
    "print(countSort([0,0,1,2,4,4,3,2,9,8,6,7,7,15,16,19,25,1,6,8,9,44,8,18,65,4,5,3,5,8,9,5]))"
   ]
  },
  {
   "cell_type": "markdown",
   "metadata": {},
   "source": [
    "#### 10)基数排序"
   ]
  },
  {
   "cell_type": "code",
   "execution_count": null,
   "metadata": {},
   "outputs": [],
   "source": []
  }
 ],
 "metadata": {
  "kernelspec": {
   "display_name": "Python 3",
   "language": "python",
   "name": "python3"
  },
  "language_info": {
   "codemirror_mode": {
    "name": "ipython",
    "version": 3
   },
   "file_extension": ".py",
   "mimetype": "text/x-python",
   "name": "python",
   "nbconvert_exporter": "python",
   "pygments_lexer": "ipython3",
   "version": "3.7.5"
  }
 },
 "nbformat": 4,
 "nbformat_minor": 2
}
