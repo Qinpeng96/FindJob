{
 "cells": [
  {
   "cell_type": "markdown",
   "metadata": {},
   "source": [
    "###                                               LeetCode刷题笔记-肖奇"
   ]
  },
  {
   "cell_type": "markdown",
   "metadata": {},
   "source": [
    "### 题目:238. 除自身以外数组的乘积([链接](https://leetcode-cn.com/problems/product-of-array-except-self/))\n",
    "- 方法:左右数组"
   ]
  },
  {
   "cell_type": "code",
   "execution_count": 11,
   "metadata": {},
   "outputs": [
    {
     "name": "stdout",
     "output_type": "stream",
     "text": [
      "[24, 12, 8, 6]\n"
     ]
    }
   ],
   "source": [
    "from typing import List\n",
    "#时间:O(n) 空间:O(n)\n",
    "def productExceptSelf(nums: List[int]) -> List[int]:\n",
    "    left = 1\n",
    "    right = 1\n",
    "    res = [1]*len(nums)\n",
    "    for i in range(len(nums)):\n",
    "        res[i]*=left\n",
    "        left *= nums[i]\n",
    "        res[len(nums)-i-1]*= right\n",
    "        right *= nums[len(nums)-1-i]\n",
    "    return res\n",
    "print(productExceptSelf([1,2,3,4]))  "
   ]
  },
  {
   "cell_type": "markdown",
   "metadata": {},
   "source": [
    "### 题目:74.搜索二维矩阵([链接](https://leetcode-cn.com/problems/search-a-2d-matrix/))\n",
    "- 方法:二分查找"
   ]
  },
  {
   "cell_type": "code",
   "execution_count": 19,
   "metadata": {},
   "outputs": [
    {
     "name": "stdout",
     "output_type": "stream",
     "text": [
      "True\n",
      "False\n",
      "False\n"
     ]
    }
   ],
   "source": [
    "from typing import List\n",
    "#时间:O(log(mn)) 空间O(1)\n",
    "class Solution:\n",
    "    def _searchMatrix(self,matrix: List[List[int]], left:int,right:int,target:int) -> bool:  \n",
    "        cols = len(matrix[0])\n",
    "        if left == right:\n",
    "            return ( matrix[(left-1)//cols][(left-1)%cols] == target )\n",
    "    \n",
    "        mid = (left+right)//2\n",
    "        \n",
    "        if matrix[(mid-1)//cols][(mid-1)%cols] < target: \n",
    "            return self._searchMatrix(matrix,mid+1,right,target)\n",
    "        elif matrix[(mid-1)//cols][(mid-1)%cols] > target: \n",
    "            return self._searchMatrix(matrix,left,mid,target)\n",
    "        else:\n",
    "            return True\n",
    "\n",
    "    def searchMatrix(self, matrix: List[List[int]], target: int) -> bool:\n",
    "        rows = len(matrix)\n",
    "        if rows < 1:\n",
    "            return False\n",
    "        cols = len(matrix[0])\n",
    "        if cols < 1:\n",
    "            return False\n",
    "        \n",
    "        nums = rows*cols\n",
    "        left  = 1\n",
    "        right = nums\n",
    "        mid = (left+right)//2\n",
    "        \n",
    "        if left == right:\n",
    "            return ( matrix[(left-1)//cols][(left-1)%cols] == target )\n",
    "        if matrix[(mid-1)//cols][(mid-1)%cols] < target: \n",
    "            return self._searchMatrix(matrix,mid+1,right,target)\n",
    "        elif matrix[(mid-1)//cols][(mid-1)%cols] > target: \n",
    "            return self._searchMatrix(matrix,left,mid,target)\n",
    "        else:\n",
    "            return True\n",
    "a = Solution()\n",
    "#test examples\n",
    "print(a.searchMatrix([[1,3,5,7],[10,11,16,20],[23,30,34,50]],50))\n",
    "print(a.searchMatrix([[1]],2))\n",
    "print(a.searchMatrix([[1,3,5,7], [10,11,16,20],[23,30,34,50]],3))"
   ]
  },
  {
   "cell_type": "markdown",
   "metadata": {},
   "source": [
    "### 题目:82. 删除排序链表中的重复元素 II([链接](https://leetcode-cn.com/problems/remove-duplicates-from-sorted-list-ii/solution/))"
   ]
  },
  {
   "cell_type": "markdown",
   "metadata": {},
   "source": [
    "### 题目:96. 不同的二叉搜索树([链接](https://leetcode-cn.com/problems/unique-binary-search-trees/))\n",
    "- 方法:动态规划"
   ]
  },
  {
   "cell_type": "code",
   "execution_count": 3,
   "metadata": {},
   "outputs": [
    {
     "name": "stdout",
     "output_type": "stream",
     "text": [
      "5\n"
     ]
    }
   ],
   "source": [
    "class Solution:\n",
    "    def numTrees(self, n: int) -> int:\n",
    "        g = [0]*(n+1)\n",
    "        g[0] = 1\n",
    "        g[1] = 1\n",
    "        for i in range(2,n+1):\n",
    "            for j in range(1,i+1):\n",
    "                g[i]+= g[j-1]*g[i-j]\n",
    "        return g[n]\n",
    "                \n",
    "a = Solution()\n",
    "print(a.numTrees(3))"
   ]
  },
  {
   "cell_type": "markdown",
   "metadata": {},
   "source": [
    "### 题目:456 132模式([链接](https://leetcode-cn.com/problems/132-pattern/comments/))\n",
    "- 方法:栈"
   ]
  },
  {
   "cell_type": "code",
   "execution_count": 1,
   "metadata": {
    "scrolled": true
   },
   "outputs": [
    {
     "name": "stdout",
     "output_type": "stream",
     "text": [
      "True\n"
     ]
    }
   ],
   "source": [
    "from typing import List\n",
    "class Solution:\n",
    "    def find132pattern(self, nums: List[int]) -> bool:\n",
    "        stack = []\n",
    "        MIN = float('-inf') #存储132模式中的2\n",
    "        for num in nums[::-1]:\n",
    "            if num < MIN: #满足132模式\n",
    "                return True\n",
    "            while stack and num > stack[-1]: #存储132当中的3\n",
    "                MIN = stack.pop()\n",
    "            stack.append(num)\n",
    "        return False\n",
    "a = Solution()\n",
    "print (a.find132pattern([0,1,1,4,2,5,4]) )"
   ]
  },
  {
   "cell_type": "markdown",
   "metadata": {},
   "source": [
    "### 题目:650 只有两个键的键盘([链接](https://leetcode-cn.com/problems/2-keys-keyboard/))\n",
    "- 方法:动态规划"
   ]
  },
  {
   "cell_type": "code",
   "execution_count": null,
   "metadata": {},
   "outputs": [],
   "source": [
    "class Solution:\n",
    "    def minSteps(self, n: int) -> int:\n",
    "        if n == 1:\n",
    "            return 0\n",
    "        i = n // 2\n",
    "        while i > 1:\n",
    "            if n%i == 0:\n",
    "                return self.minSteps(i) + n//i\n",
    "            i -= 1\n",
    "        return n"
   ]
  },
  {
   "cell_type": "markdown",
   "metadata": {},
   "source": [
    "### 题目:413 等差数列划分([链接](https://leetcode-cn.com/problems/arithmetic-slices/))\n",
    "- 方法1:遍历"
   ]
  },
  {
   "cell_type": "code",
   "execution_count": null,
   "metadata": {},
   "outputs": [],
   "source": [
    "from typing import List\n",
    "class Solution:\n",
    "    def numberOfArithmeticSlices(self, A: List[int]) -> List[int]:\n",
    "        length = len(A)\n",
    "        if length < 3 :\n",
    "            return 0\n",
    "        i = 0\n",
    "        k = i+2\n",
    "        sum = 0\n",
    "        arr_len = 2\n",
    "        while i < length-2 and k < length :\n",
    "            if  A[k]-A[i]  == (k-i)*(A[i+1]-A[i]):\n",
    "                k += 1\n",
    "                arr_len += 1\n",
    "                if k == length and arr_len > 2 :\n",
    "                    sum += (arr_len-2)*(arr_len-1)//2\n",
    "            else:\n",
    "                if arr_len > 2:\n",
    "                    sum += (arr_len-2)*(arr_len-1)//2\n",
    "                    arr_len = 2\n",
    "                i = k-1\n",
    "                k = i+2\n",
    "        return sum\n",
    "a =  Solution()\n",
    "print(a.numberOfArithmeticSlices([1,2,3,4,6,8,10,3,5,7,9,5,1]))"
   ]
  },
  {
   "cell_type": "markdown",
   "metadata": {},
   "source": [
    "- 方法2 动态规划"
   ]
  },
  {
   "cell_type": "code",
   "execution_count": null,
   "metadata": {},
   "outputs": [],
   "source": [
    "class Solution:\n",
    "    def numberOfArithmeticSlices(self, A):\n",
    "        \"\"\"\n",
    "        :type A: List[int]\n",
    "        :rtype: int\n",
    "        \"\"\"\n",
    "        n=len(A)\n",
    "        dp=[0]*n\n",
    "        for i in range(2,n):\n",
    "            if A[i]-A[i-1]==A[i-1]-A[i-2]:\n",
    "                dp[i]=dp[i-1]+1\n",
    "        return sum(dp)"
   ]
  }
 ],
 "metadata": {
  "kernelspec": {
   "display_name": "Python 3",
   "language": "python",
   "name": "python3"
  },
  "language_info": {
   "codemirror_mode": {
    "name": "ipython",
    "version": 3
   },
   "file_extension": ".py",
   "mimetype": "text/x-python",
   "name": "python",
   "nbconvert_exporter": "python",
   "pygments_lexer": "ipython3",
   "version": "3.7.4"
  }
 },
 "nbformat": 4,
 "nbformat_minor": 2
}
